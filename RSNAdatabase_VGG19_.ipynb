{
  "metadata": {
    "accelerator": "GPU",
    "colab": {
      "provenance": [],
      "gpuType": "T4",
      "include_colab_link": true
    },
    "kernelspec": {
      "name": "python3",
      "display_name": "Python 3"
    },
    "language_info": {
      "name": "python",
      "version": "3.10.12",
      "mimetype": "text/x-python",
      "codemirror_mode": {
        "name": "ipython",
        "version": 3
      },
      "pygments_lexer": "ipython3",
      "nbconvert_exporter": "python",
      "file_extension": ".py"
    },
    "kaggle": {
      "accelerator": "nvidiaTeslaT4",
      "dataSources": [
        {
          "sourceId": 5967,
          "sourceType": "datasetVersion",
          "datasetId": 3748
        },
        {
          "sourceId": 4781642,
          "sourceType": "datasetVersion",
          "datasetId": 2767654
        }
      ],
      "dockerImageVersionId": 30636,
      "isInternetEnabled": true,
      "language": "python",
      "sourceType": "notebook",
      "isGpuEnabled": true
    }
  },
  "nbformat_minor": 0,
  "nbformat": 4,
  "cells": [
    {
      "cell_type": "markdown",
      "metadata": {
        "id": "view-in-github",
        "colab_type": "text"
      },
      "source": [
        "<a href=\"https://colab.research.google.com/github/MhmodElgazaz/Breast-Cancer-Detection/blob/main/RSNAdatabase_VGG19_.ipynb\" target=\"_parent\"><img src=\"https://colab.research.google.com/assets/colab-badge.svg\" alt=\"Open In Colab\"/></a>"
      ]
    },
    {
      "cell_type": "code",
      "source": [
        "import pandas as pd\n",
        "import numpy as np\n",
        "import matplotlib.pyplot as plt\n",
        "import cv2\n",
        "import seaborn as sns\n",
        "\n",
        "from sklearn import metrics\n",
        "from sklearn.model_selection import train_test_split\n",
        "from sklearn.metrics import confusion_matrix, classification_report\n",
        "from sklearn.preprocessing import LabelEncoder\n",
        "\n",
        "from keras.preprocessing.image import ImageDataGenerator\n",
        "from keras.models import Sequential\n",
        "from keras import optimizers\n",
        "from keras import losses\n",
        "\n",
        "import tensorflow as tf\n",
        "from tensorflow.keras.utils import to_categorical\n",
        "from tensorflow.keras.layers import Input, Dense, Dropout, BatchNormalization, Flatten, Activation, GlobalAveragePooling2D,Conv2D, MaxPooling2D\n",
        "from tensorflow.keras.applications.vgg19 import VGG19 # VGG19\n",
        "from tensorflow.keras.utils import plot_model\n",
        "\n",
        "import os\n",
        "from IPython.display import Image\n",
        "from tqdm import tqdm\n"
      ],
      "metadata": {
        "id": "lx-qoEDbIR8Y",
        "execution": {
          "iopub.status.busy": "2024-01-20T16:57:25.654073Z",
          "iopub.execute_input": "2024-01-20T16:57:25.654422Z",
          "iopub.status.idle": "2024-01-20T16:57:37.452416Z",
          "shell.execute_reply.started": "2024-01-20T16:57:25.654393Z",
          "shell.execute_reply": "2024-01-20T16:57:37.451668Z"
        },
        "trusted": true
      },
      "execution_count": 1,
      "outputs": []
    },
    {
      "cell_type": "code",
      "source": [
        "from google.colab import drive\n",
        "drive.mount('/content/drive')"
      ],
      "metadata": {
        "id": "D4qN1-za4lZQ",
        "colab": {
          "base_uri": "https://localhost:8080/"
        },
        "outputId": "c0795fe5-5d64-43a7-c16a-f8698ef9d75b"
      },
      "execution_count": 2,
      "outputs": [
        {
          "output_type": "stream",
          "name": "stdout",
          "text": [
            "Mounted at /content/drive\n"
          ]
        }
      ]
    },
    {
      "cell_type": "code",
      "source": [
        "import os\n",
        "os.environ['KAGGLE_CONFIG_DIR'] = '/content/drive/MyDrive/kaggle'\n",
        "!kaggle datasets download -d gauravduttakiit/mammography-breast-cancer-detection"
      ],
      "metadata": {
        "id": "jUmz93ct4mzR",
        "colab": {
          "base_uri": "https://localhost:8080/"
        },
        "outputId": "acd283b9-abf8-473c-adeb-e79a155c4381"
      },
      "execution_count": 3,
      "outputs": [
        {
          "output_type": "stream",
          "name": "stdout",
          "text": [
            "Downloading mammography-breast-cancer-detection.zip to /content\n",
            " 99% 986M/0.98G [00:13<00:00, 76.1MB/s]\n",
            "100% 0.98G/0.98G [00:13<00:00, 77.9MB/s]\n"
          ]
        }
      ]
    },
    {
      "cell_type": "code",
      "source": [
        "!cp mammography-breast-cancer-detection.zip /content/drive/MyDrive"
      ],
      "metadata": {
        "id": "3xRnfrYR63WK"
      },
      "execution_count": 4,
      "outputs": []
    },
    {
      "cell_type": "code",
      "source": [
        "import zipfile\n",
        "\n",
        "# Define the path to your zip file\n",
        "file_path = '/content/drive/MyDrive/mammography-breast-cancer-detection.zip'  # Replace 'your_file.zip' with your file's name\n",
        "\n",
        "# Unzip the file to a specific destination\n",
        "with zipfile.ZipFile(file_path, 'r') as zip_ref:\n",
        "    zip_ref.extractall('/content/drive/MyDrive/kaggle/dataset')  # Replace 'destination_folder' with your desired folder"
      ],
      "metadata": {
        "id": "ScPJD8ad4sCQ"
      },
      "execution_count": 5,
      "outputs": []
    },
    {
      "cell_type": "code",
      "source": [
        "trainData = pd.read_csv(\"/content/drive/MyDrive/kaggle/dataset/train.csv\")\n",
        "testData = pd.read_csv(\"/content/drive/MyDrive/kaggle/dataset/test.csv\")"
      ],
      "metadata": {
        "execution": {
          "iopub.status.busy": "2024-01-20T16:57:56.513936Z",
          "iopub.execute_input": "2024-01-20T16:57:56.514521Z",
          "iopub.status.idle": "2024-01-20T16:57:56.593636Z",
          "shell.execute_reply.started": "2024-01-20T16:57:56.514484Z",
          "shell.execute_reply": "2024-01-20T16:57:56.592863Z"
        },
        "trusted": true,
        "id": "5awKwdvG4iIb"
      },
      "execution_count": 2,
      "outputs": []
    },
    {
      "cell_type": "code",
      "source": [
        "def show_image(image):\n",
        "    plt.imshow(image)\n",
        "    plt.show()"
      ],
      "metadata": {
        "id": "V60xgQHk1tlP",
        "execution": {
          "iopub.status.busy": "2024-01-20T16:57:58.178244Z",
          "iopub.execute_input": "2024-01-20T16:57:58.178846Z",
          "iopub.status.idle": "2024-01-20T16:57:58.183350Z",
          "shell.execute_reply.started": "2024-01-20T16:57:58.178815Z",
          "shell.execute_reply": "2024-01-20T16:57:58.182409Z"
        },
        "trusted": true
      },
      "execution_count": 3,
      "outputs": []
    },
    {
      "cell_type": "code",
      "source": [
        "trainData.head(5)\n"
      ],
      "metadata": {
        "id": "s3Deeu3_Nbr5",
        "outputId": "cfe343b7-1757-4708-f69f-3af92d34787a",
        "execution": {
          "iopub.status.busy": "2024-01-20T16:58:00.812112Z",
          "iopub.execute_input": "2024-01-20T16:58:00.812478Z",
          "iopub.status.idle": "2024-01-20T16:58:00.826097Z",
          "shell.execute_reply.started": "2024-01-20T16:58:00.812448Z",
          "shell.execute_reply": "2024-01-20T16:58:00.825257Z"
        },
        "trusted": true,
        "colab": {
          "base_uri": "https://localhost:8080/",
          "height": 206
        }
      },
      "execution_count": 4,
      "outputs": [
        {
          "output_type": "execute_result",
          "data": {
            "text/plain": [
              "   site_id  patient_id    image_id laterality view   age  implant  machine_id  \\\n",
              "0        2       10006   462822612          L   CC  61.0        0          29   \n",
              "1        2       10006  1459541791          L  MLO  61.0        0          29   \n",
              "2        2       10006  1864590858          R  MLO  61.0        0          29   \n",
              "3        2       10006  1874946579          R   CC  61.0        0          29   \n",
              "4        2       10011   220375232          L   CC  55.0        0          21   \n",
              "\n",
              "  prediction_id  cancer  \n",
              "0       10006_L       0  \n",
              "1       10006_L       0  \n",
              "2       10006_R       0  \n",
              "3       10006_R       0  \n",
              "4       10011_L       0  "
            ],
            "text/html": [
              "\n",
              "  <div id=\"df-0f6e46ee-fbd0-4c53-adc3-59c8a0cd3c10\" class=\"colab-df-container\">\n",
              "    <div>\n",
              "<style scoped>\n",
              "    .dataframe tbody tr th:only-of-type {\n",
              "        vertical-align: middle;\n",
              "    }\n",
              "\n",
              "    .dataframe tbody tr th {\n",
              "        vertical-align: top;\n",
              "    }\n",
              "\n",
              "    .dataframe thead th {\n",
              "        text-align: right;\n",
              "    }\n",
              "</style>\n",
              "<table border=\"1\" class=\"dataframe\">\n",
              "  <thead>\n",
              "    <tr style=\"text-align: right;\">\n",
              "      <th></th>\n",
              "      <th>site_id</th>\n",
              "      <th>patient_id</th>\n",
              "      <th>image_id</th>\n",
              "      <th>laterality</th>\n",
              "      <th>view</th>\n",
              "      <th>age</th>\n",
              "      <th>implant</th>\n",
              "      <th>machine_id</th>\n",
              "      <th>prediction_id</th>\n",
              "      <th>cancer</th>\n",
              "    </tr>\n",
              "  </thead>\n",
              "  <tbody>\n",
              "    <tr>\n",
              "      <th>0</th>\n",
              "      <td>2</td>\n",
              "      <td>10006</td>\n",
              "      <td>462822612</td>\n",
              "      <td>L</td>\n",
              "      <td>CC</td>\n",
              "      <td>61.0</td>\n",
              "      <td>0</td>\n",
              "      <td>29</td>\n",
              "      <td>10006_L</td>\n",
              "      <td>0</td>\n",
              "    </tr>\n",
              "    <tr>\n",
              "      <th>1</th>\n",
              "      <td>2</td>\n",
              "      <td>10006</td>\n",
              "      <td>1459541791</td>\n",
              "      <td>L</td>\n",
              "      <td>MLO</td>\n",
              "      <td>61.0</td>\n",
              "      <td>0</td>\n",
              "      <td>29</td>\n",
              "      <td>10006_L</td>\n",
              "      <td>0</td>\n",
              "    </tr>\n",
              "    <tr>\n",
              "      <th>2</th>\n",
              "      <td>2</td>\n",
              "      <td>10006</td>\n",
              "      <td>1864590858</td>\n",
              "      <td>R</td>\n",
              "      <td>MLO</td>\n",
              "      <td>61.0</td>\n",
              "      <td>0</td>\n",
              "      <td>29</td>\n",
              "      <td>10006_R</td>\n",
              "      <td>0</td>\n",
              "    </tr>\n",
              "    <tr>\n",
              "      <th>3</th>\n",
              "      <td>2</td>\n",
              "      <td>10006</td>\n",
              "      <td>1874946579</td>\n",
              "      <td>R</td>\n",
              "      <td>CC</td>\n",
              "      <td>61.0</td>\n",
              "      <td>0</td>\n",
              "      <td>29</td>\n",
              "      <td>10006_R</td>\n",
              "      <td>0</td>\n",
              "    </tr>\n",
              "    <tr>\n",
              "      <th>4</th>\n",
              "      <td>2</td>\n",
              "      <td>10011</td>\n",
              "      <td>220375232</td>\n",
              "      <td>L</td>\n",
              "      <td>CC</td>\n",
              "      <td>55.0</td>\n",
              "      <td>0</td>\n",
              "      <td>21</td>\n",
              "      <td>10011_L</td>\n",
              "      <td>0</td>\n",
              "    </tr>\n",
              "  </tbody>\n",
              "</table>\n",
              "</div>\n",
              "    <div class=\"colab-df-buttons\">\n",
              "\n",
              "  <div class=\"colab-df-container\">\n",
              "    <button class=\"colab-df-convert\" onclick=\"convertToInteractive('df-0f6e46ee-fbd0-4c53-adc3-59c8a0cd3c10')\"\n",
              "            title=\"Convert this dataframe to an interactive table.\"\n",
              "            style=\"display:none;\">\n",
              "\n",
              "  <svg xmlns=\"http://www.w3.org/2000/svg\" height=\"24px\" viewBox=\"0 -960 960 960\">\n",
              "    <path d=\"M120-120v-720h720v720H120Zm60-500h600v-160H180v160Zm220 220h160v-160H400v160Zm0 220h160v-160H400v160ZM180-400h160v-160H180v160Zm440 0h160v-160H620v160ZM180-180h160v-160H180v160Zm440 0h160v-160H620v160Z\"/>\n",
              "  </svg>\n",
              "    </button>\n",
              "\n",
              "  <style>\n",
              "    .colab-df-container {\n",
              "      display:flex;\n",
              "      gap: 12px;\n",
              "    }\n",
              "\n",
              "    .colab-df-convert {\n",
              "      background-color: #E8F0FE;\n",
              "      border: none;\n",
              "      border-radius: 50%;\n",
              "      cursor: pointer;\n",
              "      display: none;\n",
              "      fill: #1967D2;\n",
              "      height: 32px;\n",
              "      padding: 0 0 0 0;\n",
              "      width: 32px;\n",
              "    }\n",
              "\n",
              "    .colab-df-convert:hover {\n",
              "      background-color: #E2EBFA;\n",
              "      box-shadow: 0px 1px 2px rgba(60, 64, 67, 0.3), 0px 1px 3px 1px rgba(60, 64, 67, 0.15);\n",
              "      fill: #174EA6;\n",
              "    }\n",
              "\n",
              "    .colab-df-buttons div {\n",
              "      margin-bottom: 4px;\n",
              "    }\n",
              "\n",
              "    [theme=dark] .colab-df-convert {\n",
              "      background-color: #3B4455;\n",
              "      fill: #D2E3FC;\n",
              "    }\n",
              "\n",
              "    [theme=dark] .colab-df-convert:hover {\n",
              "      background-color: #434B5C;\n",
              "      box-shadow: 0px 1px 3px 1px rgba(0, 0, 0, 0.15);\n",
              "      filter: drop-shadow(0px 1px 2px rgba(0, 0, 0, 0.3));\n",
              "      fill: #FFFFFF;\n",
              "    }\n",
              "  </style>\n",
              "\n",
              "    <script>\n",
              "      const buttonEl =\n",
              "        document.querySelector('#df-0f6e46ee-fbd0-4c53-adc3-59c8a0cd3c10 button.colab-df-convert');\n",
              "      buttonEl.style.display =\n",
              "        google.colab.kernel.accessAllowed ? 'block' : 'none';\n",
              "\n",
              "      async function convertToInteractive(key) {\n",
              "        const element = document.querySelector('#df-0f6e46ee-fbd0-4c53-adc3-59c8a0cd3c10');\n",
              "        const dataTable =\n",
              "          await google.colab.kernel.invokeFunction('convertToInteractive',\n",
              "                                                    [key], {});\n",
              "        if (!dataTable) return;\n",
              "\n",
              "        const docLinkHtml = 'Like what you see? Visit the ' +\n",
              "          '<a target=\"_blank\" href=https://colab.research.google.com/notebooks/data_table.ipynb>data table notebook</a>'\n",
              "          + ' to learn more about interactive tables.';\n",
              "        element.innerHTML = '';\n",
              "        dataTable['output_type'] = 'display_data';\n",
              "        await google.colab.output.renderOutput(dataTable, element);\n",
              "        const docLink = document.createElement('div');\n",
              "        docLink.innerHTML = docLinkHtml;\n",
              "        element.appendChild(docLink);\n",
              "      }\n",
              "    </script>\n",
              "  </div>\n",
              "\n",
              "\n",
              "<div id=\"df-352c39be-80bb-4d68-8fad-311f2469f3ff\">\n",
              "  <button class=\"colab-df-quickchart\" onclick=\"quickchart('df-352c39be-80bb-4d68-8fad-311f2469f3ff')\"\n",
              "            title=\"Suggest charts\"\n",
              "            style=\"display:none;\">\n",
              "\n",
              "<svg xmlns=\"http://www.w3.org/2000/svg\" height=\"24px\"viewBox=\"0 0 24 24\"\n",
              "     width=\"24px\">\n",
              "    <g>\n",
              "        <path d=\"M19 3H5c-1.1 0-2 .9-2 2v14c0 1.1.9 2 2 2h14c1.1 0 2-.9 2-2V5c0-1.1-.9-2-2-2zM9 17H7v-7h2v7zm4 0h-2V7h2v10zm4 0h-2v-4h2v4z\"/>\n",
              "    </g>\n",
              "</svg>\n",
              "  </button>\n",
              "\n",
              "<style>\n",
              "  .colab-df-quickchart {\n",
              "      --bg-color: #E8F0FE;\n",
              "      --fill-color: #1967D2;\n",
              "      --hover-bg-color: #E2EBFA;\n",
              "      --hover-fill-color: #174EA6;\n",
              "      --disabled-fill-color: #AAA;\n",
              "      --disabled-bg-color: #DDD;\n",
              "  }\n",
              "\n",
              "  [theme=dark] .colab-df-quickchart {\n",
              "      --bg-color: #3B4455;\n",
              "      --fill-color: #D2E3FC;\n",
              "      --hover-bg-color: #434B5C;\n",
              "      --hover-fill-color: #FFFFFF;\n",
              "      --disabled-bg-color: #3B4455;\n",
              "      --disabled-fill-color: #666;\n",
              "  }\n",
              "\n",
              "  .colab-df-quickchart {\n",
              "    background-color: var(--bg-color);\n",
              "    border: none;\n",
              "    border-radius: 50%;\n",
              "    cursor: pointer;\n",
              "    display: none;\n",
              "    fill: var(--fill-color);\n",
              "    height: 32px;\n",
              "    padding: 0;\n",
              "    width: 32px;\n",
              "  }\n",
              "\n",
              "  .colab-df-quickchart:hover {\n",
              "    background-color: var(--hover-bg-color);\n",
              "    box-shadow: 0 1px 2px rgba(60, 64, 67, 0.3), 0 1px 3px 1px rgba(60, 64, 67, 0.15);\n",
              "    fill: var(--button-hover-fill-color);\n",
              "  }\n",
              "\n",
              "  .colab-df-quickchart-complete:disabled,\n",
              "  .colab-df-quickchart-complete:disabled:hover {\n",
              "    background-color: var(--disabled-bg-color);\n",
              "    fill: var(--disabled-fill-color);\n",
              "    box-shadow: none;\n",
              "  }\n",
              "\n",
              "  .colab-df-spinner {\n",
              "    border: 2px solid var(--fill-color);\n",
              "    border-color: transparent;\n",
              "    border-bottom-color: var(--fill-color);\n",
              "    animation:\n",
              "      spin 1s steps(1) infinite;\n",
              "  }\n",
              "\n",
              "  @keyframes spin {\n",
              "    0% {\n",
              "      border-color: transparent;\n",
              "      border-bottom-color: var(--fill-color);\n",
              "      border-left-color: var(--fill-color);\n",
              "    }\n",
              "    20% {\n",
              "      border-color: transparent;\n",
              "      border-left-color: var(--fill-color);\n",
              "      border-top-color: var(--fill-color);\n",
              "    }\n",
              "    30% {\n",
              "      border-color: transparent;\n",
              "      border-left-color: var(--fill-color);\n",
              "      border-top-color: var(--fill-color);\n",
              "      border-right-color: var(--fill-color);\n",
              "    }\n",
              "    40% {\n",
              "      border-color: transparent;\n",
              "      border-right-color: var(--fill-color);\n",
              "      border-top-color: var(--fill-color);\n",
              "    }\n",
              "    60% {\n",
              "      border-color: transparent;\n",
              "      border-right-color: var(--fill-color);\n",
              "    }\n",
              "    80% {\n",
              "      border-color: transparent;\n",
              "      border-right-color: var(--fill-color);\n",
              "      border-bottom-color: var(--fill-color);\n",
              "    }\n",
              "    90% {\n",
              "      border-color: transparent;\n",
              "      border-bottom-color: var(--fill-color);\n",
              "    }\n",
              "  }\n",
              "</style>\n",
              "\n",
              "  <script>\n",
              "    async function quickchart(key) {\n",
              "      const quickchartButtonEl =\n",
              "        document.querySelector('#' + key + ' button');\n",
              "      quickchartButtonEl.disabled = true;  // To prevent multiple clicks.\n",
              "      quickchartButtonEl.classList.add('colab-df-spinner');\n",
              "      try {\n",
              "        const charts = await google.colab.kernel.invokeFunction(\n",
              "            'suggestCharts', [key], {});\n",
              "      } catch (error) {\n",
              "        console.error('Error during call to suggestCharts:', error);\n",
              "      }\n",
              "      quickchartButtonEl.classList.remove('colab-df-spinner');\n",
              "      quickchartButtonEl.classList.add('colab-df-quickchart-complete');\n",
              "    }\n",
              "    (() => {\n",
              "      let quickchartButtonEl =\n",
              "        document.querySelector('#df-352c39be-80bb-4d68-8fad-311f2469f3ff button');\n",
              "      quickchartButtonEl.style.display =\n",
              "        google.colab.kernel.accessAllowed ? 'block' : 'none';\n",
              "    })();\n",
              "  </script>\n",
              "</div>\n",
              "\n",
              "    </div>\n",
              "  </div>\n"
            ]
          },
          "metadata": {},
          "execution_count": 4
        }
      ]
    },
    {
      "cell_type": "code",
      "source": [
        "trainData\n"
      ],
      "metadata": {
        "outputId": "8809ec91-9f2a-45c4-9e27-78e13e78ee83",
        "execution": {
          "iopub.status.busy": "2024-01-20T16:58:03.518486Z",
          "iopub.execute_input": "2024-01-20T16:58:03.518868Z",
          "iopub.status.idle": "2024-01-20T16:58:03.533873Z",
          "shell.execute_reply.started": "2024-01-20T16:58:03.518839Z",
          "shell.execute_reply": "2024-01-20T16:58:03.532927Z"
        },
        "trusted": true,
        "id": "DonQ8wM74iIc",
        "colab": {
          "base_uri": "https://localhost:8080/",
          "height": 424
        }
      },
      "execution_count": 16,
      "outputs": [
        {
          "output_type": "execute_result",
          "data": {
            "text/plain": [
              "       site_id  patient_id    image_id laterality view   age  implant  \\\n",
              "87           1       10130   388811999          L  MLO  71.0        0   \n",
              "88           1       10130   613462606          L   CC  71.0        0   \n",
              "89           1       10130  1360338805          L   CC  71.0        0   \n",
              "90           1       10130  1672636630          L  MLO  71.0        0   \n",
              "190          1       10226   461614796          L  MLO  71.0        0   \n",
              "...        ...         ...         ...        ...  ...   ...      ...   \n",
              "54701        1        9973  1729524723          R  MLO  43.0        0   \n",
              "54702        1        9989    63473691          L  MLO  60.0        0   \n",
              "54703        1        9989  1078943060          L   CC  60.0        0   \n",
              "54704        1        9989   398038886          R  MLO  60.0        0   \n",
              "54705        1        9989   439796429          R   CC  60.0        0   \n",
              "\n",
              "       machine_id prediction_id  cancer  \n",
              "87             49       10130_L       1  \n",
              "88             49       10130_L       1  \n",
              "89             49       10130_L       1  \n",
              "90             49       10130_L       1  \n",
              "190            49       10226_L       1  \n",
              "...           ...           ...     ...  \n",
              "54701          49        9973_R       0  \n",
              "54702         216        9989_L       0  \n",
              "54703         216        9989_L       0  \n",
              "54704         216        9989_R       0  \n",
              "54705         216        9989_R       0  \n",
              "\n",
              "[4706 rows x 10 columns]"
            ],
            "text/html": [
              "\n",
              "  <div id=\"df-491e3b16-ec5a-422d-910d-4ac769418e44\" class=\"colab-df-container\">\n",
              "    <div>\n",
              "<style scoped>\n",
              "    .dataframe tbody tr th:only-of-type {\n",
              "        vertical-align: middle;\n",
              "    }\n",
              "\n",
              "    .dataframe tbody tr th {\n",
              "        vertical-align: top;\n",
              "    }\n",
              "\n",
              "    .dataframe thead th {\n",
              "        text-align: right;\n",
              "    }\n",
              "</style>\n",
              "<table border=\"1\" class=\"dataframe\">\n",
              "  <thead>\n",
              "    <tr style=\"text-align: right;\">\n",
              "      <th></th>\n",
              "      <th>site_id</th>\n",
              "      <th>patient_id</th>\n",
              "      <th>image_id</th>\n",
              "      <th>laterality</th>\n",
              "      <th>view</th>\n",
              "      <th>age</th>\n",
              "      <th>implant</th>\n",
              "      <th>machine_id</th>\n",
              "      <th>prediction_id</th>\n",
              "      <th>cancer</th>\n",
              "    </tr>\n",
              "  </thead>\n",
              "  <tbody>\n",
              "    <tr>\n",
              "      <th>87</th>\n",
              "      <td>1</td>\n",
              "      <td>10130</td>\n",
              "      <td>388811999</td>\n",
              "      <td>L</td>\n",
              "      <td>MLO</td>\n",
              "      <td>71.0</td>\n",
              "      <td>0</td>\n",
              "      <td>49</td>\n",
              "      <td>10130_L</td>\n",
              "      <td>1</td>\n",
              "    </tr>\n",
              "    <tr>\n",
              "      <th>88</th>\n",
              "      <td>1</td>\n",
              "      <td>10130</td>\n",
              "      <td>613462606</td>\n",
              "      <td>L</td>\n",
              "      <td>CC</td>\n",
              "      <td>71.0</td>\n",
              "      <td>0</td>\n",
              "      <td>49</td>\n",
              "      <td>10130_L</td>\n",
              "      <td>1</td>\n",
              "    </tr>\n",
              "    <tr>\n",
              "      <th>89</th>\n",
              "      <td>1</td>\n",
              "      <td>10130</td>\n",
              "      <td>1360338805</td>\n",
              "      <td>L</td>\n",
              "      <td>CC</td>\n",
              "      <td>71.0</td>\n",
              "      <td>0</td>\n",
              "      <td>49</td>\n",
              "      <td>10130_L</td>\n",
              "      <td>1</td>\n",
              "    </tr>\n",
              "    <tr>\n",
              "      <th>90</th>\n",
              "      <td>1</td>\n",
              "      <td>10130</td>\n",
              "      <td>1672636630</td>\n",
              "      <td>L</td>\n",
              "      <td>MLO</td>\n",
              "      <td>71.0</td>\n",
              "      <td>0</td>\n",
              "      <td>49</td>\n",
              "      <td>10130_L</td>\n",
              "      <td>1</td>\n",
              "    </tr>\n",
              "    <tr>\n",
              "      <th>190</th>\n",
              "      <td>1</td>\n",
              "      <td>10226</td>\n",
              "      <td>461614796</td>\n",
              "      <td>L</td>\n",
              "      <td>MLO</td>\n",
              "      <td>71.0</td>\n",
              "      <td>0</td>\n",
              "      <td>49</td>\n",
              "      <td>10226_L</td>\n",
              "      <td>1</td>\n",
              "    </tr>\n",
              "    <tr>\n",
              "      <th>...</th>\n",
              "      <td>...</td>\n",
              "      <td>...</td>\n",
              "      <td>...</td>\n",
              "      <td>...</td>\n",
              "      <td>...</td>\n",
              "      <td>...</td>\n",
              "      <td>...</td>\n",
              "      <td>...</td>\n",
              "      <td>...</td>\n",
              "      <td>...</td>\n",
              "    </tr>\n",
              "    <tr>\n",
              "      <th>54701</th>\n",
              "      <td>1</td>\n",
              "      <td>9973</td>\n",
              "      <td>1729524723</td>\n",
              "      <td>R</td>\n",
              "      <td>MLO</td>\n",
              "      <td>43.0</td>\n",
              "      <td>0</td>\n",
              "      <td>49</td>\n",
              "      <td>9973_R</td>\n",
              "      <td>0</td>\n",
              "    </tr>\n",
              "    <tr>\n",
              "      <th>54702</th>\n",
              "      <td>1</td>\n",
              "      <td>9989</td>\n",
              "      <td>63473691</td>\n",
              "      <td>L</td>\n",
              "      <td>MLO</td>\n",
              "      <td>60.0</td>\n",
              "      <td>0</td>\n",
              "      <td>216</td>\n",
              "      <td>9989_L</td>\n",
              "      <td>0</td>\n",
              "    </tr>\n",
              "    <tr>\n",
              "      <th>54703</th>\n",
              "      <td>1</td>\n",
              "      <td>9989</td>\n",
              "      <td>1078943060</td>\n",
              "      <td>L</td>\n",
              "      <td>CC</td>\n",
              "      <td>60.0</td>\n",
              "      <td>0</td>\n",
              "      <td>216</td>\n",
              "      <td>9989_L</td>\n",
              "      <td>0</td>\n",
              "    </tr>\n",
              "    <tr>\n",
              "      <th>54704</th>\n",
              "      <td>1</td>\n",
              "      <td>9989</td>\n",
              "      <td>398038886</td>\n",
              "      <td>R</td>\n",
              "      <td>MLO</td>\n",
              "      <td>60.0</td>\n",
              "      <td>0</td>\n",
              "      <td>216</td>\n",
              "      <td>9989_R</td>\n",
              "      <td>0</td>\n",
              "    </tr>\n",
              "    <tr>\n",
              "      <th>54705</th>\n",
              "      <td>1</td>\n",
              "      <td>9989</td>\n",
              "      <td>439796429</td>\n",
              "      <td>R</td>\n",
              "      <td>CC</td>\n",
              "      <td>60.0</td>\n",
              "      <td>0</td>\n",
              "      <td>216</td>\n",
              "      <td>9989_R</td>\n",
              "      <td>0</td>\n",
              "    </tr>\n",
              "  </tbody>\n",
              "</table>\n",
              "<p>4706 rows × 10 columns</p>\n",
              "</div>\n",
              "    <div class=\"colab-df-buttons\">\n",
              "\n",
              "  <div class=\"colab-df-container\">\n",
              "    <button class=\"colab-df-convert\" onclick=\"convertToInteractive('df-491e3b16-ec5a-422d-910d-4ac769418e44')\"\n",
              "            title=\"Convert this dataframe to an interactive table.\"\n",
              "            style=\"display:none;\">\n",
              "\n",
              "  <svg xmlns=\"http://www.w3.org/2000/svg\" height=\"24px\" viewBox=\"0 -960 960 960\">\n",
              "    <path d=\"M120-120v-720h720v720H120Zm60-500h600v-160H180v160Zm220 220h160v-160H400v160Zm0 220h160v-160H400v160ZM180-400h160v-160H180v160Zm440 0h160v-160H620v160ZM180-180h160v-160H180v160Zm440 0h160v-160H620v160Z\"/>\n",
              "  </svg>\n",
              "    </button>\n",
              "\n",
              "  <style>\n",
              "    .colab-df-container {\n",
              "      display:flex;\n",
              "      gap: 12px;\n",
              "    }\n",
              "\n",
              "    .colab-df-convert {\n",
              "      background-color: #E8F0FE;\n",
              "      border: none;\n",
              "      border-radius: 50%;\n",
              "      cursor: pointer;\n",
              "      display: none;\n",
              "      fill: #1967D2;\n",
              "      height: 32px;\n",
              "      padding: 0 0 0 0;\n",
              "      width: 32px;\n",
              "    }\n",
              "\n",
              "    .colab-df-convert:hover {\n",
              "      background-color: #E2EBFA;\n",
              "      box-shadow: 0px 1px 2px rgba(60, 64, 67, 0.3), 0px 1px 3px 1px rgba(60, 64, 67, 0.15);\n",
              "      fill: #174EA6;\n",
              "    }\n",
              "\n",
              "    .colab-df-buttons div {\n",
              "      margin-bottom: 4px;\n",
              "    }\n",
              "\n",
              "    [theme=dark] .colab-df-convert {\n",
              "      background-color: #3B4455;\n",
              "      fill: #D2E3FC;\n",
              "    }\n",
              "\n",
              "    [theme=dark] .colab-df-convert:hover {\n",
              "      background-color: #434B5C;\n",
              "      box-shadow: 0px 1px 3px 1px rgba(0, 0, 0, 0.15);\n",
              "      filter: drop-shadow(0px 1px 2px rgba(0, 0, 0, 0.3));\n",
              "      fill: #FFFFFF;\n",
              "    }\n",
              "  </style>\n",
              "\n",
              "    <script>\n",
              "      const buttonEl =\n",
              "        document.querySelector('#df-491e3b16-ec5a-422d-910d-4ac769418e44 button.colab-df-convert');\n",
              "      buttonEl.style.display =\n",
              "        google.colab.kernel.accessAllowed ? 'block' : 'none';\n",
              "\n",
              "      async function convertToInteractive(key) {\n",
              "        const element = document.querySelector('#df-491e3b16-ec5a-422d-910d-4ac769418e44');\n",
              "        const dataTable =\n",
              "          await google.colab.kernel.invokeFunction('convertToInteractive',\n",
              "                                                    [key], {});\n",
              "        if (!dataTable) return;\n",
              "\n",
              "        const docLinkHtml = 'Like what you see? Visit the ' +\n",
              "          '<a target=\"_blank\" href=https://colab.research.google.com/notebooks/data_table.ipynb>data table notebook</a>'\n",
              "          + ' to learn more about interactive tables.';\n",
              "        element.innerHTML = '';\n",
              "        dataTable['output_type'] = 'display_data';\n",
              "        await google.colab.output.renderOutput(dataTable, element);\n",
              "        const docLink = document.createElement('div');\n",
              "        docLink.innerHTML = docLinkHtml;\n",
              "        element.appendChild(docLink);\n",
              "      }\n",
              "    </script>\n",
              "  </div>\n",
              "\n",
              "\n",
              "<div id=\"df-7c4d1fb2-12f9-4280-8c6b-d903226c17c1\">\n",
              "  <button class=\"colab-df-quickchart\" onclick=\"quickchart('df-7c4d1fb2-12f9-4280-8c6b-d903226c17c1')\"\n",
              "            title=\"Suggest charts\"\n",
              "            style=\"display:none;\">\n",
              "\n",
              "<svg xmlns=\"http://www.w3.org/2000/svg\" height=\"24px\"viewBox=\"0 0 24 24\"\n",
              "     width=\"24px\">\n",
              "    <g>\n",
              "        <path d=\"M19 3H5c-1.1 0-2 .9-2 2v14c0 1.1.9 2 2 2h14c1.1 0 2-.9 2-2V5c0-1.1-.9-2-2-2zM9 17H7v-7h2v7zm4 0h-2V7h2v10zm4 0h-2v-4h2v4z\"/>\n",
              "    </g>\n",
              "</svg>\n",
              "  </button>\n",
              "\n",
              "<style>\n",
              "  .colab-df-quickchart {\n",
              "      --bg-color: #E8F0FE;\n",
              "      --fill-color: #1967D2;\n",
              "      --hover-bg-color: #E2EBFA;\n",
              "      --hover-fill-color: #174EA6;\n",
              "      --disabled-fill-color: #AAA;\n",
              "      --disabled-bg-color: #DDD;\n",
              "  }\n",
              "\n",
              "  [theme=dark] .colab-df-quickchart {\n",
              "      --bg-color: #3B4455;\n",
              "      --fill-color: #D2E3FC;\n",
              "      --hover-bg-color: #434B5C;\n",
              "      --hover-fill-color: #FFFFFF;\n",
              "      --disabled-bg-color: #3B4455;\n",
              "      --disabled-fill-color: #666;\n",
              "  }\n",
              "\n",
              "  .colab-df-quickchart {\n",
              "    background-color: var(--bg-color);\n",
              "    border: none;\n",
              "    border-radius: 50%;\n",
              "    cursor: pointer;\n",
              "    display: none;\n",
              "    fill: var(--fill-color);\n",
              "    height: 32px;\n",
              "    padding: 0;\n",
              "    width: 32px;\n",
              "  }\n",
              "\n",
              "  .colab-df-quickchart:hover {\n",
              "    background-color: var(--hover-bg-color);\n",
              "    box-shadow: 0 1px 2px rgba(60, 64, 67, 0.3), 0 1px 3px 1px rgba(60, 64, 67, 0.15);\n",
              "    fill: var(--button-hover-fill-color);\n",
              "  }\n",
              "\n",
              "  .colab-df-quickchart-complete:disabled,\n",
              "  .colab-df-quickchart-complete:disabled:hover {\n",
              "    background-color: var(--disabled-bg-color);\n",
              "    fill: var(--disabled-fill-color);\n",
              "    box-shadow: none;\n",
              "  }\n",
              "\n",
              "  .colab-df-spinner {\n",
              "    border: 2px solid var(--fill-color);\n",
              "    border-color: transparent;\n",
              "    border-bottom-color: var(--fill-color);\n",
              "    animation:\n",
              "      spin 1s steps(1) infinite;\n",
              "  }\n",
              "\n",
              "  @keyframes spin {\n",
              "    0% {\n",
              "      border-color: transparent;\n",
              "      border-bottom-color: var(--fill-color);\n",
              "      border-left-color: var(--fill-color);\n",
              "    }\n",
              "    20% {\n",
              "      border-color: transparent;\n",
              "      border-left-color: var(--fill-color);\n",
              "      border-top-color: var(--fill-color);\n",
              "    }\n",
              "    30% {\n",
              "      border-color: transparent;\n",
              "      border-left-color: var(--fill-color);\n",
              "      border-top-color: var(--fill-color);\n",
              "      border-right-color: var(--fill-color);\n",
              "    }\n",
              "    40% {\n",
              "      border-color: transparent;\n",
              "      border-right-color: var(--fill-color);\n",
              "      border-top-color: var(--fill-color);\n",
              "    }\n",
              "    60% {\n",
              "      border-color: transparent;\n",
              "      border-right-color: var(--fill-color);\n",
              "    }\n",
              "    80% {\n",
              "      border-color: transparent;\n",
              "      border-right-color: var(--fill-color);\n",
              "      border-bottom-color: var(--fill-color);\n",
              "    }\n",
              "    90% {\n",
              "      border-color: transparent;\n",
              "      border-bottom-color: var(--fill-color);\n",
              "    }\n",
              "  }\n",
              "</style>\n",
              "\n",
              "  <script>\n",
              "    async function quickchart(key) {\n",
              "      const quickchartButtonEl =\n",
              "        document.querySelector('#' + key + ' button');\n",
              "      quickchartButtonEl.disabled = true;  // To prevent multiple clicks.\n",
              "      quickchartButtonEl.classList.add('colab-df-spinner');\n",
              "      try {\n",
              "        const charts = await google.colab.kernel.invokeFunction(\n",
              "            'suggestCharts', [key], {});\n",
              "      } catch (error) {\n",
              "        console.error('Error during call to suggestCharts:', error);\n",
              "      }\n",
              "      quickchartButtonEl.classList.remove('colab-df-spinner');\n",
              "      quickchartButtonEl.classList.add('colab-df-quickchart-complete');\n",
              "    }\n",
              "    (() => {\n",
              "      let quickchartButtonEl =\n",
              "        document.querySelector('#df-7c4d1fb2-12f9-4280-8c6b-d903226c17c1 button');\n",
              "      quickchartButtonEl.style.display =\n",
              "        google.colab.kernel.accessAllowed ? 'block' : 'none';\n",
              "    })();\n",
              "  </script>\n",
              "</div>\n",
              "\n",
              "  <div id=\"id_08289633-3c8e-49c9-affb-80519a030048\">\n",
              "    <style>\n",
              "      .colab-df-generate {\n",
              "        background-color: #E8F0FE;\n",
              "        border: none;\n",
              "        border-radius: 50%;\n",
              "        cursor: pointer;\n",
              "        display: none;\n",
              "        fill: #1967D2;\n",
              "        height: 32px;\n",
              "        padding: 0 0 0 0;\n",
              "        width: 32px;\n",
              "      }\n",
              "\n",
              "      .colab-df-generate:hover {\n",
              "        background-color: #E2EBFA;\n",
              "        box-shadow: 0px 1px 2px rgba(60, 64, 67, 0.3), 0px 1px 3px 1px rgba(60, 64, 67, 0.15);\n",
              "        fill: #174EA6;\n",
              "      }\n",
              "\n",
              "      [theme=dark] .colab-df-generate {\n",
              "        background-color: #3B4455;\n",
              "        fill: #D2E3FC;\n",
              "      }\n",
              "\n",
              "      [theme=dark] .colab-df-generate:hover {\n",
              "        background-color: #434B5C;\n",
              "        box-shadow: 0px 1px 3px 1px rgba(0, 0, 0, 0.15);\n",
              "        filter: drop-shadow(0px 1px 2px rgba(0, 0, 0, 0.3));\n",
              "        fill: #FFFFFF;\n",
              "      }\n",
              "    </style>\n",
              "    <button class=\"colab-df-generate\" onclick=\"generateWithVariable('trainData')\"\n",
              "            title=\"Generate code using this dataframe.\"\n",
              "            style=\"display:none;\">\n",
              "\n",
              "  <svg xmlns=\"http://www.w3.org/2000/svg\" height=\"24px\"viewBox=\"0 0 24 24\"\n",
              "       width=\"24px\">\n",
              "    <path d=\"M7,19H8.4L18.45,9,17,7.55,7,17.6ZM5,21V16.75L18.45,3.32a2,2,0,0,1,2.83,0l1.4,1.43a1.91,1.91,0,0,1,.58,1.4,1.91,1.91,0,0,1-.58,1.4L9.25,21ZM18.45,9,17,7.55Zm-12,3A5.31,5.31,0,0,0,4.9,8.1,5.31,5.31,0,0,0,1,6.5,5.31,5.31,0,0,0,4.9,4.9,5.31,5.31,0,0,0,6.5,1,5.31,5.31,0,0,0,8.1,4.9,5.31,5.31,0,0,0,12,6.5,5.46,5.46,0,0,0,6.5,12Z\"/>\n",
              "  </svg>\n",
              "    </button>\n",
              "    <script>\n",
              "      (() => {\n",
              "      const buttonEl =\n",
              "        document.querySelector('#id_08289633-3c8e-49c9-affb-80519a030048 button.colab-df-generate');\n",
              "      buttonEl.style.display =\n",
              "        google.colab.kernel.accessAllowed ? 'block' : 'none';\n",
              "\n",
              "      buttonEl.onclick = () => {\n",
              "        google.colab.notebook.generateWithVariable('trainData');\n",
              "      }\n",
              "      })();\n",
              "    </script>\n",
              "  </div>\n",
              "\n",
              "    </div>\n",
              "  </div>\n"
            ]
          },
          "metadata": {},
          "execution_count": 16
        }
      ]
    },
    {
      "cell_type": "code",
      "source": [
        "import pandas as pd\n",
        "# Assuming your DataFrame is named 'df' and the column is named 'cancer'\n",
        "value_to_delete = 0\n",
        "num_rows_to_delete = 2000\n",
        "# Filter rows with the specified value in the 'cancer' column\n",
        "rows_to_delete = trainData[trainData['cancer'] == value_to_delete].head(num_rows_to_delete)\n",
        "# Drop the selected rows from the DataFrame\n",
        "trainData = trainData.drop(rows_to_delete.index)\n",
        "# Now, 'df' contains the DataFrame with 20,000 rows where the value in the 'cancer' column is 0 deleted\n"
      ],
      "metadata": {
        "execution": {
          "iopub.status.busy": "2024-01-20T16:58:28.747173Z",
          "iopub.execute_input": "2024-01-20T16:58:28.747551Z",
          "iopub.status.idle": "2024-01-20T16:58:28.761027Z",
          "shell.execute_reply.started": "2024-01-20T16:58:28.747519Z",
          "shell.execute_reply": "2024-01-20T16:58:28.759795Z"
        },
        "trusted": true,
        "id": "xOLES1RL4iId"
      },
      "execution_count": 12,
      "outputs": []
    },
    {
      "cell_type": "code",
      "source": [
        "trainData['cancer'].value_counts()"
      ],
      "metadata": {
        "id": "Oke2zqKWOFV7",
        "outputId": "25c016ed-adaa-4d91-a890-31daded6def6",
        "execution": {
          "iopub.status.busy": "2024-01-20T16:58:30.521297Z",
          "iopub.execute_input": "2024-01-20T16:58:30.521889Z",
          "iopub.status.idle": "2024-01-20T16:58:30.529391Z",
          "shell.execute_reply.started": "2024-01-20T16:58:30.521857Z",
          "shell.execute_reply": "2024-01-20T16:58:30.528426Z"
        },
        "trusted": true,
        "colab": {
          "base_uri": "https://localhost:8080/"
        }
      },
      "execution_count": 13,
      "outputs": [
        {
          "output_type": "execute_result",
          "data": {
            "text/plain": [
              "0    3548\n",
              "1    1158\n",
              "Name: cancer, dtype: int64"
            ]
          },
          "metadata": {},
          "execution_count": 13
        }
      ]
    },
    {
      "cell_type": "code",
      "source": [
        "lb = LabelEncoder()\n",
        "#trainData['cancer'] = lb.fit_transform(trainData['cancer'])\n",
        "encoded_labels  = to_categorical(trainData['cancer'])"
      ],
      "metadata": {
        "execution": {
          "iopub.status.busy": "2024-01-20T16:58:11.313709Z",
          "iopub.execute_input": "2024-01-20T16:58:11.314536Z",
          "iopub.status.idle": "2024-01-20T16:58:11.324820Z",
          "shell.execute_reply.started": "2024-01-20T16:58:11.314503Z",
          "shell.execute_reply": "2024-01-20T16:58:11.323808Z"
        },
        "trusted": true,
        "id": "z_q61qhr4iId"
      },
      "execution_count": 14,
      "outputs": []
    },
    {
      "cell_type": "code",
      "source": [
        "encoded_labels[4705]\n",
        "# encoded_labels[0]"
      ],
      "metadata": {
        "execution": {
          "iopub.status.busy": "2024-01-20T16:45:26.382068Z",
          "iopub.execute_input": "2024-01-20T16:45:26.382583Z",
          "iopub.status.idle": "2024-01-20T16:45:26.391991Z",
          "shell.execute_reply.started": "2024-01-20T16:45:26.382548Z",
          "shell.execute_reply": "2024-01-20T16:45:26.390737Z"
        },
        "trusted": true,
        "id": "FJtVABM24iId",
        "outputId": "10b1eb28-f9b6-4195-ab9c-eac03bda02bb",
        "colab": {
          "base_uri": "https://localhost:8080/"
        }
      },
      "execution_count": 17,
      "outputs": [
        {
          "output_type": "execute_result",
          "data": {
            "text/plain": [
              "array([1., 0.], dtype=float32)"
            ]
          },
          "metadata": {},
          "execution_count": 17
        }
      ]
    },
    {
      "cell_type": "code",
      "source": [
        "# def read_images_labels(num_images=20000):\n",
        "#     # define the every images filepaths into a list\n",
        "#     images = []\n",
        "#     labels = []\n",
        "\n",
        "#     for idx, row in tqdm(trainData.iterrows(), total=len(trainData)):\n",
        "#         if idx >= num_images:\n",
        "#             break  # exit the loop if the desired number of images is reached\n",
        "\n",
        "#         image_address = \"/kaggle/input/mammography-breast-cancer-detection/train/\" + str(row[\"cancer\"]) + \"/\" + str(row[\"patient_id\"]) + \"_\" + str(row[\"image_id\"]) + \".png\"\n",
        "#         img = cv2.imread(image_address, 1)\n",
        "#         img = cv2.resize(img, (224, 224))  # resize image\n",
        "\n",
        "#         # Add only the original image without rotation\n",
        "#         images.append(img)\n",
        "#         labels.append(encoded_labels[idx])\n",
        "\n",
        "#     return images, labels\n"
      ],
      "metadata": {
        "execution": {
          "iopub.status.busy": "2024-01-18T13:51:29.053387Z",
          "iopub.execute_input": "2024-01-18T13:51:29.053713Z",
          "iopub.status.idle": "2024-01-18T13:51:29.061116Z",
          "shell.execute_reply.started": "2024-01-18T13:51:29.053642Z",
          "shell.execute_reply": "2024-01-18T13:51:29.060406Z"
        },
        "trusted": true,
        "id": "aNrkM-xg4iIe"
      },
      "execution_count": null,
      "outputs": []
    },
    {
      "cell_type": "code",
      "source": [
        "# def read_images_labels(limit=5000):\n",
        "#     # define the images filepaths into a list\n",
        "#     images = []\n",
        "#     labels = []\n",
        "\n",
        "#     for _, row in tqdm(trainData.iterrows(), total=len(trainData)):\n",
        "#         image_address = \"/kaggle/input/mammography-breast-cancer-detection/train/\" + str(row[\"cancer\"]) + \"/\" + str(row[\"patient_id\"]) + \"_\" + str(row[\"image_id\"]) + \".png\"\n",
        "#         img = cv2.imread(image_address, 1)\n",
        "#         img = cv2.resize(img, (224, 224))  # resize image\n",
        "\n",
        "#         # Check the label and add to the corresponding category\n",
        "#         label = row['cancer']\n",
        "#         if label == 0 and len(labels) < limit:\n",
        "#             images.append(img)\n",
        "#             labels.append(encoded_labels[0])\n",
        "#         elif label == 1:\n",
        "#             images.append(img)\n",
        "#             labels.append(encoded_labels[87])\n",
        "\n",
        "#     return images, np.array(labels)\n"
      ],
      "metadata": {
        "execution": {
          "iopub.status.busy": "2024-01-18T13:51:29.062071Z",
          "iopub.execute_input": "2024-01-18T13:51:29.062324Z",
          "iopub.status.idle": "2024-01-18T13:51:29.079820Z",
          "shell.execute_reply.started": "2024-01-18T13:51:29.062301Z",
          "shell.execute_reply": "2024-01-18T13:51:29.079089Z"
        },
        "trusted": true,
        "id": "Zn1bjHvc4iIf"
      },
      "execution_count": null,
      "outputs": []
    },
    {
      "cell_type": "code",
      "source": [
        "# def read_images_labels():\n",
        "#     # define the every images filepaths into a list\n",
        "#     images = []\n",
        "#     labels = []\n",
        "\n",
        "#     for _, row in tqdm(trainData.iterrows(), total=len(trainData)):\n",
        "\n",
        "#         image_address = \"/kaggle/input/mammography-breast-cancer-detection/train/\" + str(row[\"cancer\"]) + \"/\" + str(row[\"patient_id\"]) + \"_\" + str(row[\"image_id\"]) + \".png\"\n",
        "#         img = cv2.imread(image_address, 1)\n",
        "#         img = cv2.resize(img, (224, 224))  # resize image\n",
        "\n",
        "#         # Add only the original image without rotation\n",
        "#         images.append(img)\n",
        "#         labels.append(row['cancer'])\n",
        "\n",
        "#     return images, labels\n"
      ],
      "metadata": {
        "id": "izbVvUadGhPq",
        "execution": {
          "iopub.status.busy": "2024-01-20T16:41:09.471316Z",
          "iopub.execute_input": "2024-01-20T16:41:09.471709Z",
          "iopub.status.idle": "2024-01-20T16:41:09.480360Z",
          "shell.execute_reply.started": "2024-01-20T16:41:09.471681Z",
          "shell.execute_reply": "2024-01-20T16:41:09.477966Z"
        },
        "trusted": true
      },
      "execution_count": null,
      "outputs": []
    },
    {
      "cell_type": "code",
      "source": [
        "def read_images_labels():\n",
        "    # define the images filepaths into a list\n",
        "    images = []\n",
        "    labels = []\n",
        "\n",
        "    for _, row in tqdm(trainData.iterrows(), total=len(trainData)):\n",
        "        image_address = \"/content/drive/MyDrive/kaggle/dataset/train/\" + str(row[\"cancer\"]) + \"/\" + str(row[\"patient_id\"]) + \"_\" + str(row[\"image_id\"]) + \".png\"\n",
        "        img = cv2.imread(image_address, 1)\n",
        "        img = cv2.resize(img, (224, 224))  # resize image\n",
        "\n",
        "        # Check the label and add to the corresponding category\n",
        "        label = row['cancer']\n",
        "        if label == 0:\n",
        "            images.append(img)\n",
        "            labels.append(encoded_labels[4705])\n",
        "        elif label == 1:\n",
        "            images.append(img)\n",
        "            labels.append(encoded_labels[0])\n",
        "\n",
        "    return images, np.array(labels)\n"
      ],
      "metadata": {
        "id": "xaIE66MKQbqG",
        "execution": {
          "iopub.status.busy": "2024-01-20T16:58:39.051096Z",
          "iopub.execute_input": "2024-01-20T16:58:39.051900Z",
          "iopub.status.idle": "2024-01-20T16:58:39.058923Z",
          "shell.execute_reply.started": "2024-01-20T16:58:39.051868Z",
          "shell.execute_reply": "2024-01-20T16:58:39.057879Z"
        },
        "trusted": true
      },
      "execution_count": 18,
      "outputs": []
    },
    {
      "cell_type": "code",
      "source": [
        "X, Y = read_images_labels()"
      ],
      "metadata": {
        "id": "Sw7JqD9OTZbp",
        "outputId": "12a86f84-d78f-4587-a6db-66a87ea23b8c",
        "execution": {
          "iopub.status.busy": "2024-01-20T16:58:41.811198Z",
          "iopub.execute_input": "2024-01-20T16:58:41.811556Z",
          "iopub.status.idle": "2024-01-20T17:00:01.630430Z",
          "shell.execute_reply.started": "2024-01-20T16:58:41.811526Z",
          "shell.execute_reply": "2024-01-20T17:00:01.629496Z"
        },
        "trusted": true,
        "colab": {
          "base_uri": "https://localhost:8080/"
        }
      },
      "execution_count": 19,
      "outputs": [
        {
          "output_type": "stream",
          "name": "stderr",
          "text": [
            "100%|██████████| 4706/4706 [00:31<00:00, 148.75it/s]\n"
          ]
        }
      ]
    },
    {
      "cell_type": "code",
      "source": [
        "X = np.asarray(X)\n",
        "X.shape"
      ],
      "metadata": {
        "id": "AsYX7RZrTndM",
        "execution": {
          "iopub.status.busy": "2024-01-20T17:00:01.631941Z",
          "iopub.execute_input": "2024-01-20T17:00:01.632267Z",
          "iopub.status.idle": "2024-01-20T17:00:02.298565Z",
          "shell.execute_reply.started": "2024-01-20T17:00:01.632241Z",
          "shell.execute_reply": "2024-01-20T17:00:02.297694Z"
        },
        "trusted": true,
        "outputId": "1d7442af-f0a7-4fba-9172-fff961bcd65f",
        "colab": {
          "base_uri": "https://localhost:8080/"
        }
      },
      "execution_count": 20,
      "outputs": [
        {
          "output_type": "execute_result",
          "data": {
            "text/plain": [
              "(4706, 224, 224, 3)"
            ]
          },
          "metadata": {},
          "execution_count": 20
        }
      ]
    },
    {
      "cell_type": "code",
      "source": [
        "Y = np.array(Y)\n",
        "Y.shape\n",
        "Y[0]"
      ],
      "metadata": {
        "id": "PwlGi4PBUfsb",
        "execution": {
          "iopub.status.busy": "2024-01-20T17:00:02.300069Z",
          "iopub.execute_input": "2024-01-20T17:00:02.300427Z",
          "iopub.status.idle": "2024-01-20T17:00:02.432473Z",
          "shell.execute_reply.started": "2024-01-20T17:00:02.300395Z",
          "shell.execute_reply": "2024-01-20T17:00:02.431495Z"
        },
        "trusted": true,
        "outputId": "7e74d406-bc9c-485d-82f8-035fbcd3a155",
        "colab": {
          "base_uri": "https://localhost:8080/"
        }
      },
      "execution_count": 25,
      "outputs": [
        {
          "output_type": "execute_result",
          "data": {
            "text/plain": [
              "array([0., 1.], dtype=float32)"
            ]
          },
          "metadata": {},
          "execution_count": 25
        }
      ]
    },
    {
      "cell_type": "code",
      "source": [
        "x_train, x_test, y_train, y_test = train_test_split(X, Y, test_size=0.15, random_state=2021,shuffle=True)"
      ],
      "metadata": {
        "id": "7IjBm2cTUnGh",
        "execution": {
          "iopub.status.busy": "2024-01-20T17:00:02.434563Z",
          "iopub.execute_input": "2024-01-20T17:00:02.434870Z",
          "iopub.status.idle": "2024-01-20T17:00:03.069043Z",
          "shell.execute_reply.started": "2024-01-20T17:00:02.434846Z",
          "shell.execute_reply": "2024-01-20T17:00:03.068024Z"
        },
        "trusted": true
      },
      "execution_count": 23,
      "outputs": []
    },
    {
      "cell_type": "code",
      "source": [
        "y_test[1]"
      ],
      "metadata": {
        "colab": {
          "base_uri": "https://localhost:8080/"
        },
        "id": "WgKhYCKaYCDx",
        "outputId": "e73128f9-4b1e-4b72-bb07-89b2c88ad5b7"
      },
      "execution_count": 27,
      "outputs": [
        {
          "output_type": "execute_result",
          "data": {
            "text/plain": [
              "array([1., 0.], dtype=float32)"
            ]
          },
          "metadata": {},
          "execution_count": 27
        }
      ]
    },
    {
      "cell_type": "code",
      "source": [
        "base_model = VGG19(input_shape=(224,224,3), weights='imagenet', include_top=False)\n",
        "model=Sequential()\n",
        "model.add(base_model)\n",
        "model.add(Dropout(0.2))\n",
        "model.add(Flatten())\n",
        "model.add(BatchNormalization())\n",
        "model.add(Dense(1024,kernel_initializer='he_uniform'))\n",
        "model.add(BatchNormalization())\n",
        "model.add(Activation('relu'))\n",
        "model.add(Dropout(0.2))\n",
        "model.add(Dense(1024,kernel_initializer='he_uniform'))\n",
        "model.add(BatchNormalization())\n",
        "model.add(Activation('relu'))\n",
        "model.add(Dropout(0.2))\n",
        "model.add(Dense(1024,kernel_initializer='he_uniform'))\n",
        "model.add(BatchNormalization())\n",
        "model.add(Activation('relu'))\n",
        "model.add(Dropout(0.2))\n",
        "model.add(Dense(2,activation='softmax'))\n",
        "\n",
        "for layer in base_model.layers:\n",
        "    layer.trainable = False\n",
        "\n",
        "model.summary()"
      ],
      "metadata": {
        "id": "HY3kDvhtUtHg",
        "outputId": "f4eb1e0f-b840-4714-8513-c50c3dc963a7",
        "execution": {
          "iopub.status.busy": "2024-01-20T17:00:03.070340Z",
          "iopub.execute_input": "2024-01-20T17:00:03.070734Z",
          "iopub.status.idle": "2024-01-20T17:00:05.367533Z",
          "shell.execute_reply.started": "2024-01-20T17:00:03.070699Z",
          "shell.execute_reply": "2024-01-20T17:00:05.366676Z"
        },
        "trusted": true,
        "colab": {
          "base_uri": "https://localhost:8080/"
        }
      },
      "execution_count": 37,
      "outputs": [
        {
          "output_type": "stream",
          "name": "stdout",
          "text": [
            "Model: \"sequential_3\"\n",
            "_________________________________________________________________\n",
            " Layer (type)                Output Shape              Param #   \n",
            "=================================================================\n",
            " vgg19 (Functional)          (None, 7, 7, 512)         20024384  \n",
            "                                                                 \n",
            " dropout_12 (Dropout)        (None, 7, 7, 512)         0         \n",
            "                                                                 \n",
            " flatten_3 (Flatten)         (None, 25088)             0         \n",
            "                                                                 \n",
            " batch_normalization_12 (Ba  (None, 25088)             100352    \n",
            " tchNormalization)                                               \n",
            "                                                                 \n",
            " dense_12 (Dense)            (None, 1024)              25691136  \n",
            "                                                                 \n",
            " batch_normalization_13 (Ba  (None, 1024)              4096      \n",
            " tchNormalization)                                               \n",
            "                                                                 \n",
            " activation_9 (Activation)   (None, 1024)              0         \n",
            "                                                                 \n",
            " dropout_13 (Dropout)        (None, 1024)              0         \n",
            "                                                                 \n",
            " dense_13 (Dense)            (None, 1024)              1049600   \n",
            "                                                                 \n",
            " batch_normalization_14 (Ba  (None, 1024)              4096      \n",
            " tchNormalization)                                               \n",
            "                                                                 \n",
            " activation_10 (Activation)  (None, 1024)              0         \n",
            "                                                                 \n",
            " dropout_14 (Dropout)        (None, 1024)              0         \n",
            "                                                                 \n",
            " dense_14 (Dense)            (None, 1024)              1049600   \n",
            "                                                                 \n",
            " batch_normalization_15 (Ba  (None, 1024)              4096      \n",
            " tchNormalization)                                               \n",
            "                                                                 \n",
            " activation_11 (Activation)  (None, 1024)              0         \n",
            "                                                                 \n",
            " dropout_15 (Dropout)        (None, 1024)              0         \n",
            "                                                                 \n",
            " dense_15 (Dense)            (None, 2)                 2050      \n",
            "                                                                 \n",
            "=================================================================\n",
            "Total params: 47929410 (182.84 MB)\n",
            "Trainable params: 27848706 (106.23 MB)\n",
            "Non-trainable params: 20080704 (76.60 MB)\n",
            "_________________________________________________________________\n"
          ]
        }
      ]
    },
    {
      "cell_type": "code",
      "source": [
        "from tensorflow.keras.utils import model_to_dot\n",
        "from IPython.display import Image\n",
        "\n",
        "plot_model(model, to_file='model_architecture.png' ,show_shapes=True, show_layer_names=True)\n",
        "Image(filename='model_architecture.png')"
      ],
      "metadata": {
        "id": "3JvzEOAuvzDP",
        "execution": {
          "iopub.status.busy": "2024-01-20T17:00:05.368731Z",
          "iopub.execute_input": "2024-01-20T17:00:05.369014Z",
          "iopub.status.idle": "2024-01-20T17:00:05.653354Z",
          "shell.execute_reply.started": "2024-01-20T17:00:05.368990Z",
          "shell.execute_reply": "2024-01-20T17:00:05.652345Z"
        },
        "trusted": true
      },
      "execution_count": null,
      "outputs": []
    },
    {
      "cell_type": "code",
      "source": [
        "from tensorflow.keras.callbacks import EarlyStopping, ModelCheckpoint,LearningRateScheduler\n",
        "es = EarlyStopping(monitor='val_loss', mode='min', patience=6,restore_best_weights=True, verbose=1)"
      ],
      "metadata": {
        "id": "02jB37xkU5xr",
        "execution": {
          "iopub.status.busy": "2024-01-20T17:00:05.654472Z",
          "iopub.execute_input": "2024-01-20T17:00:05.654781Z",
          "iopub.status.idle": "2024-01-20T17:00:05.659931Z",
          "shell.execute_reply.started": "2024-01-20T17:00:05.654757Z",
          "shell.execute_reply": "2024-01-20T17:00:05.658928Z"
        },
        "trusted": true
      },
      "execution_count": 132,
      "outputs": []
    },
    {
      "cell_type": "code",
      "source": [
        "model.compile(optimizer='adam',loss='binary_crossentropy', metrics=['accuracy'])\n",
        "history = model.fit(x_train, y_train,validation_split=0.15,shuffle=True, epochs=40, batch_size=64,callbacks=[es])"
      ],
      "metadata": {
        "id": "JKvK0k_lVPdQ",
        "execution": {
          "iopub.status.busy": "2024-01-20T17:00:05.661064Z",
          "iopub.execute_input": "2024-01-20T17:00:05.661338Z"
        },
        "trusted": true
      },
      "execution_count": null,
      "outputs": []
    },
    {
      "cell_type": "code",
      "source": [
        "from tensorflow.keras.callbacks import EarlyStopping, LearningRateScheduler\n",
        "import tensorflow as tf\n",
        "\n",
        "# Define a simple learning rate schedule function\n",
        "def lr_schedule(epoch):\n",
        "    initial_learning_rate = 0.05\n",
        "    decay_factor = 0.9\n",
        "    decay_steps = 1  # Adjust this based on your preference\n",
        "\n",
        "    return initial_learning_rate * decay_factor**(epoch // decay_steps)\n",
        "\n",
        "# Create a LearningRateScheduler callback\n",
        "lr_scheduler = LearningRateScheduler(lr_schedule)\n",
        "\n",
        "# Early stopping callback\n",
        "es = EarlyStopping(monitor='val_loss', patience=5, restore_best_weights=True, verbose=1)\n",
        "\n",
        "# Compile the model with the optimizer\n",
        "model.compile(optimizer='adam', loss='binary_crossentropy', metrics=['accuracy'])\n",
        "\n",
        "# Fit the model with learning rate scheduling and early stopping\n",
        "history = model.fit(x_train, y_train, validation_split=0.15, shuffle=True,\n",
        "                    epochs=40, batch_size=256, callbacks=[es, lr_scheduler])\n"
      ],
      "metadata": {
        "colab": {
          "base_uri": "https://localhost:8080/"
        },
        "id": "PU2yHqBxaUOX",
        "outputId": "962dfc57-7d39-4ac6-d793-5d99936a4d9b"
      },
      "execution_count": 38,
      "outputs": [
        {
          "output_type": "stream",
          "name": "stdout",
          "text": [
            "Epoch 1/40\n",
            "27/27 [==============================] - 75s 2s/step - loss: 0.9872 - accuracy: 0.6965 - val_loss: 13.5818 - val_accuracy: 0.7367 - lr: 0.0100\n",
            "Epoch 2/40\n",
            "27/27 [==============================] - 22s 819ms/step - loss: 0.5377 - accuracy: 0.7529 - val_loss: 2.8133 - val_accuracy: 0.7367 - lr: 0.0090\n",
            "Epoch 3/40\n",
            "27/27 [==============================] - 24s 906ms/step - loss: 0.4573 - accuracy: 0.7853 - val_loss: 1.2970 - val_accuracy: 0.7300 - lr: 0.0081\n",
            "Epoch 4/40\n",
            "27/27 [==============================] - 22s 819ms/step - loss: 0.3298 - accuracy: 0.8609 - val_loss: 1.3378 - val_accuracy: 0.7100 - lr: 0.0073\n",
            "Epoch 5/40\n",
            "27/27 [==============================] - 22s 826ms/step - loss: 0.1759 - accuracy: 0.9335 - val_loss: 1.4010 - val_accuracy: 0.6733 - lr: 0.0066\n",
            "Epoch 6/40\n",
            "27/27 [==============================] - 22s 832ms/step - loss: 0.1016 - accuracy: 0.9632 - val_loss: 1.5453 - val_accuracy: 0.6917 - lr: 0.0059\n",
            "Epoch 7/40\n",
            "27/27 [==============================] - 25s 924ms/step - loss: 0.0560 - accuracy: 0.9774 - val_loss: 1.7130 - val_accuracy: 0.6667 - lr: 0.0053\n",
            "Epoch 8/40\n",
            "27/27 [==============================] - ETA: 0s - loss: 0.0561 - accuracy: 0.9794Restoring model weights from the end of the best epoch: 3.\n",
            "27/27 [==============================] - 23s 851ms/step - loss: 0.0561 - accuracy: 0.9794 - val_loss: 1.6323 - val_accuracy: 0.6833 - lr: 0.0048\n",
            "Epoch 8: early stopping\n"
          ]
        }
      ]
    },
    {
      "cell_type": "code",
      "source": [
        "loss_value , accuracy = model.evaluate(x_test, y_test)\n",
        "\n",
        "print('Test_loss_value = ' +str(loss_value))\n",
        "print('test_accuracy = ' + str(accuracy))"
      ],
      "metadata": {
        "id": "k_kWN4ujPQX2",
        "trusted": true,
        "colab": {
          "base_uri": "https://localhost:8080/"
        },
        "outputId": "a10c1ac2-83e5-4cd9-d967-97841025e4e9"
      },
      "execution_count": 39,
      "outputs": [
        {
          "output_type": "stream",
          "name": "stdout",
          "text": [
            "23/23 [==============================] - 3s 136ms/step - loss: 1.4394 - accuracy: 0.7436\n",
            "Test_loss_value = 1.439377784729004\n",
            "test_accuracy = 0.743626058101654\n"
          ]
        }
      ]
    },
    {
      "cell_type": "code",
      "source": [
        "#%% PLOTTING RESULTS (Train vs Validation)\n",
        "import matplotlib.pyplot as plt\n",
        "def Train_Val_Plot(acc,val_acc,loss,val_loss):\n",
        "\n",
        "    fig, (ax1, ax2) = plt.subplots(1,2, figsize= (15,10))\n",
        "    fig.suptitle(\" MODEL'S METRICS VISUALIZATION \")\n",
        "\n",
        "    ax1.plot(range(1, len(acc) + 1), acc)\n",
        "    ax1.plot(range(1, len(val_acc) + 1), val_acc)\n",
        "    ax1.set_title('History of Accuracy')\n",
        "    ax1.set_xlabel('Epochs')\n",
        "    ax1.set_ylabel('Accuracy')\n",
        "    ax1.legend(['training', 'validation'])\n",
        "\n",
        "\n",
        "    ax2.plot(range(1, len(loss) + 1), loss)\n",
        "    ax2.plot(range(1, len(val_loss) + 1), val_loss)\n",
        "    ax2.set_title('History of Loss')\n",
        "    ax2.set_xlabel('Epochs')\n",
        "    ax2.set_ylabel('Loss')\n",
        "    ax2.legend(['training', 'validation'])\n",
        "    plt.show()\n",
        "\n",
        "\n",
        "Train_Val_Plot(history.history['accuracy'],history.history['val_accuracy'],\n",
        "               history.history['loss'],history.history['val_loss'])"
      ],
      "metadata": {
        "id": "-s0LjCi2VVov",
        "trusted": true,
        "colab": {
          "base_uri": "https://localhost:8080/",
          "height": 950
        },
        "outputId": "f2fca1dc-cbf0-425c-e52a-021e02ea2d0c"
      },
      "execution_count": 40,
      "outputs": [
        {
          "output_type": "display_data",
          "data": {
            "text/plain": [
              "<Figure size 1500x1000 with 2 Axes>"
            ],
            "image/png": "[encoded data removed]"
          },
          "metadata": {}
        }
      ]
    },
    {
      "cell_type": "code",
      "source": [
        "predictions = model.predict(x_test)\n",
        "y_pred = [np.argmax(w) for w in predictions]"
      ],
      "metadata": {
        "id": "gkqOilnlb-Ze",
        "trusted": true,
        "colab": {
          "base_uri": "https://localhost:8080/"
        },
        "outputId": "f36df37e-3df4-4ade-d62e-dc48ed05d051"
      },
      "execution_count": 124,
      "outputs": [
        {
          "output_type": "stream",
          "name": "stdout",
          "text": [
            "32/32 [==============================] - 5s 146ms/step\n"
          ]
        }
      ]
    },
    {
      "cell_type": "code",
      "source": [
        "y_test = [np.argmax(w) for w in y_test]"
      ],
      "metadata": {
        "id": "pfG93fVhsqQg",
        "trusted": true
      },
      "execution_count": 125,
      "outputs": []
    },
    {
      "cell_type": "code",
      "source": [
        "cm1 = confusion_matrix(y_test, y_pred)\n",
        "plt.figure(figsize=(12, 6))\n",
        "plt.title('the confusion matrix of the model in the train')\n",
        "sns.heatmap(cm1, annot = True, fmt = 'g' ,vmin = 0, cmap = 'binary')"
      ],
      "metadata": {
        "id": "LfYG1DCt17tK",
        "trusted": true,
        "colab": {
          "base_uri": "https://localhost:8080/",
          "height": 562
        },
        "outputId": "da16a8b7-f29b-420f-a926-9c6092a4c25d"
      },
      "execution_count": 126,
      "outputs": [
        {
          "output_type": "execute_result",
          "data": {
            "text/plain": [
              "<Axes: title={'center': 'the confusion matrix of the model in the train'}>"
            ]
          },
          "metadata": {},
          "execution_count": 126
        },
        {
          "output_type": "display_data",
          "data": {
            "text/plain": [
              "<Figure size 1200x600 with 2 Axes>"
            ],
            "image/png": "[encoded data removed]"
          },
          "metadata": {}
        }
      ]
    },
    {
      "cell_type": "code",
      "source": [
        "label_mapping = {\n",
        "    1: 'M',\n",
        "    0: 'B'\n",
        "}\n",
        "\n",
        "classification_report_model = classification_report(y_test, y_pred, target_names=label_mapping.values())\n",
        "print(classification_report_model)"
      ],
      "metadata": {
        "id": "HObt82ncq87l",
        "trusted": true,
        "colab": {
          "base_uri": "https://localhost:8080/"
        },
        "outputId": "14f45a56-577c-4771-ce93-a2248112dea4"
      },
      "execution_count": 127,
      "outputs": [
        {
          "output_type": "stream",
          "name": "stdout",
          "text": [
            "              precision    recall  f1-score   support\n",
            "\n",
            "           M       0.85      0.91      0.88       843\n",
            "           B       0.28      0.18      0.22       163\n",
            "\n",
            "    accuracy                           0.79      1006\n",
            "   macro avg       0.57      0.55      0.55      1006\n",
            "weighted avg       0.76      0.79      0.77      1006\n",
            "\n"
          ]
        }
      ]
    },
    {
      "cell_type": "code",
      "source": [
        "tf.saved_model.save(model,'model')\n",
        "model.save('Final_model.h5')"
      ],
      "metadata": {
        "id": "PfmzjgXCq-DH",
        "trusted": true,
        "colab": {
          "base_uri": "https://localhost:8080/"
        },
        "outputId": "3ec8fa97-508d-4ac8-b65d-4670b50c8747"
      },
      "execution_count": 81,
      "outputs": [
        {
          "output_type": "stream",
          "name": "stderr",
          "text": [
            "/usr/local/lib/python3.10/dist-packages/keras/src/engine/training.py:3103: UserWarning: You are saving your model as an HDF5 file via `model.save()`. This file format is considered legacy. We recommend using instead the native Keras format, e.g. `model.save('my_model.keras')`.\n",
            "  saving_api.save_model(\n"
          ]
        }
      ]
    },
    {
      "cell_type": "code",
      "source": [
        "trained_model = tf.keras.models.load_model('Final_model.h5')\n",
        "\n",
        "from PIL import Image, ImageOps\n",
        "import numpy as np\n",
        "\n",
        "def preprocess_image(image_input):\n",
        "    data = np.ndarray(shape=(1, 224, 224, 3), dtype=np.float32)\n",
        "    image = Image.open(image_input).convert('RGB')\n",
        "    size = (224, 224)\n",
        "    image = ImageOps.fit(image, size, Image.LANCZOS)\n",
        "    image_array = np.asarray(image)\n",
        "    data[0] = image_array\n",
        "    return data\n",
        "\n",
        "def make_prediction(model, image_data):\n",
        "    prediction = model.predict(image_data)\n",
        "    class1 = prediction[0, 0]\n",
        "    class2 = prediction[0, 1]\n",
        "    return class1, class2\n",
        "\n",
        "def show_image_from_path(image_path):\n",
        "    # Read the image using cv2.imread\n",
        "    img = cv2.imread(image_path, 1)\n",
        "    img = cv2.resize(img, (224,224))\n",
        "    # Display the image using plt.imshow\n",
        "    plt.imshow(img)\n",
        "    plt.show()\n",
        "\n",
        "\n"
      ],
      "metadata": {
        "id": "MsUARvMcVXiQ",
        "trusted": true
      },
      "execution_count": 82,
      "outputs": []
    },
    {
      "cell_type": "markdown",
      "source": [],
      "metadata": {
        "id": "4PVRagExMqfa"
      }
    },
    {
      "cell_type": "code",
      "source": [
        "import os\n",
        "\n",
        "# Assuming you have a folder containing multiple images for prediction\n",
        "folder_path = '/kaggle/input/mammography-breast-cancer-detection/test/'\n",
        "image_paths = [os.path.join(folder_path, filename) for filename in os.listdir(folder_path) if filename.endswith('.png')]\n",
        "\n",
        "for image_path in image_paths:\n",
        "    # Preprocess the image\n",
        "    preprocessed_data = preprocess_image(image_path)\n",
        "\n",
        "    # Make prediction\n",
        "    class1_prob, class2_prob = make_prediction(trained_model, preprocessed_data)\n",
        "\n",
        "    # Display the prediction result\n",
        "    print(f\"Prediction for {image_path}:\")\n",
        "    print(f\"Benign Tumor Probability: {class1_prob:.4f}\")\n",
        "    print(f\"Malignant Tumor Probability: {class2_prob:.4f}\")\n",
        "\n",
        "    if class1_prob > class2_prob:\n",
        "        print(\"Predicted Class: Non-cancerous\")\n",
        "    elif class2_prob > class1_prob:\n",
        "        print(\"Predicted Class: Cancer\")\n",
        "    else:\n",
        "        print(\"We encountered an ERROR. This should be temporary. Please try again with a better quality image. Cheers!\")\n",
        "\n",
        "    show_image_from_path(image_path)\n"
      ],
      "metadata": {
        "id": "zFKjS7NKK93a",
        "trusted": true
      },
      "execution_count": null,
      "outputs": []
    },
    {
      "cell_type": "code",
      "source": [
        "import os\n",
        "\n",
        "# Assuming you have a folder containing multiple images for prediction\n",
        "folder_path = '/kaggle/input/mammography-breast-cancer-detection/train/1/'\n",
        "image_paths = [os.path.join(folder_path, filename) for filename in os.listdir(folder_path) if filename.endswith('.png')]\n",
        "\n",
        "for image_path in image_paths:\n",
        "    # Preprocess the image\n",
        "    preprocessed_data = preprocess_image(image_path)\n",
        "\n",
        "    # Make prediction\n",
        "    class1_prob, class2_prob = make_prediction(trained_model, preprocessed_data)\n",
        "\n",
        "    # Display the prediction result\n",
        "    print(f\"Prediction for {image_path}:\")\n",
        "    print(f\"Benign Tumor Probability: {class1_prob:.4f}\")\n",
        "    print(f\"Malignant Tumor Probability: {class2_prob:.4f}\")\n",
        "\n",
        "    if class1_prob > class2_prob:\n",
        "        print(\"Predicted Class: Benign Tumor\")\n",
        "    elif class2_prob > class1_prob:\n",
        "        print(\"Predicted Class: Malignant Tumor\")\n",
        "    else:\n",
        "        print(\"We encountered an ERROR. This should be temporary. Please try again with a better quality image. Cheers!\")\n",
        "\n",
        "    show_image_from_path(image_path)\n"
      ],
      "metadata": {
        "id": "VJQ6kiEuKhP2",
        "trusted": true
      },
      "execution_count": null,
      "outputs": []
    },
    {
      "cell_type": "code",
      "source": [
        "import os\n",
        "from tabulate import tabulate\n",
        "import matplotlib.pyplot as plt\n",
        "import matplotlib.image as mpimg\n",
        "# Assuming you have a folder containing multiple images for prediction\n",
        "folder_path = '/content/drive/MyDrive/Test/1/'\n",
        "image_paths = [os.path.join(folder_path, filename) for filename in os.listdir(folder_path) if filename.endswith('.png')]\n",
        "results_table = []\n",
        "# Set the number of columns for image display\n",
        "num_columns = 3\n",
        "# Calculate the number of rows required\n",
        "num_images = len(image_paths)\n",
        "num_rows = -(-num_images // num_columns)  # Ceiling division to ensure all images are displayed\n",
        "# Set the size of the displayed images\n",
        "fig, axes = plt.subplots(num_rows, num_columns, figsize=(10, 5))\n",
        "for i, image_path in enumerate(image_paths):\n",
        "    # Preprocess the image\n",
        "    preprocessed_data = preprocess_image(image_path)\n",
        "    # Make prediction\n",
        "    class1_prob, class2_prob = make_prediction(trained_model, preprocessed_data)\n",
        "    # Determine the predicted class\n",
        "    if class1_prob > class2_prob:\n",
        "        predicted_class = \"Non_cancerous Tumor\"\n",
        "    elif class2_prob > class1_prob:\n",
        "        predicted_class = \"Cancerous Tumor\"\n",
        "    else:\n",
        "        predicted_class = \"ERROR\"\n",
        "    # Append results to the table\n",
        "    results_table.append([image_path, predicted_class])\n",
        "    # Plot the image with the result\n",
        "    row_index = i // num_columns\n",
        "    col_index = i % num_columns\n",
        "    img = mpimg.imread(image_path)\n",
        "    axes[row_index, col_index].imshow(img, cmap='gray')  # Specify colormap as 'gray'\n",
        "    axes[row_index, col_index].set_title(f\"Prediction: {predicted_class}\")\n",
        "    axes[row_index, col_index].axis('off')  # Turn off axis for cleaner display\n",
        "# Adjust layout for better spacing\n",
        "plt.tight_layout()\n",
        "# Display the results table\n",
        "headers = [\"Image Path\", \"Prediction\"]\n",
        "print(tabulate(results_table, headers, tablefmt=\"grid\"))\n",
        "# Show the plots\n",
        "plt.show()"
      ],
      "metadata": {
        "id": "JA9sjimG4iIl"
      },
      "execution_count": null,
      "outputs": []
    },
    {
      "cell_type": "code",
      "source": [
        "import os\n",
        "from tabulate import tabulate\n",
        "import matplotlib.pyplot as plt\n",
        "import numpy as np\n",
        "\n",
        "results_table = []\n",
        "\n",
        "# Set the number of columns for image display\n",
        "num_columns = 3\n",
        "\n",
        "# Specify the range of indices you want to display (from 16 to 30)\n",
        "start_index = 36\n",
        "end_index = 45\n",
        "indices_to_display = range(start_index, min(end_index + 1, len(x_test)))\n",
        "\n",
        "# Calculate the number of rows required\n",
        "num_images = len(indices_to_display)\n",
        "num_rows = -(-num_images // num_columns)  # Ceiling division to ensure all images are displayed\n",
        "\n",
        "# Set the size of the displayed images\n",
        "fig, axes = plt.subplots(num_rows, num_columns, figsize=(10, 5))\n",
        "\n",
        "for i, index in enumerate(indices_to_display):\n",
        "    # If Z[index] is a NumPy array representing the preprocessed image\n",
        "    img = x_test[index]\n",
        "\n",
        "    # Ensure the batch dimension is added correctly\n",
        "    img_batch = np.expand_dims(img, axis=0)\n",
        "\n",
        "    # Make prediction (replace this with your actual prediction function)\n",
        "    class_probabilities = trained_model.predict(img_batch)\n",
        "\n",
        "    # Determine the predicted class\n",
        "    predicted_class = np.argmax(class_probabilities)\n",
        "    true_class = np.argmax(y_test[index])\n",
        "\n",
        "    class_labels = [\"Non_cancerous\", \"cancerous Tumor\"]\n",
        "\n",
        "    # Append results to the table\n",
        "    results_table.append([f\"Image {index + 1}\", class_labels[true_class], class_labels[predicted_class]])\n",
        "\n",
        "    # Plot the image with the result\n",
        "    row_index = i // num_columns\n",
        "    col_index = i % num_columns\n",
        "    axes[row_index, col_index].imshow(x_test[index], cmap='gray')  # Use the original image without reshaping\n",
        "    axes[row_index, col_index].set_title(f\"True: {class_labels[true_class]}\\nPrediction: {class_labels[predicted_class]}\")\n",
        "    axes[row_index, col_index].axis('off')  # Turn off axis for cleaner display\n",
        "\n",
        "# Adjust layout for better spacing\n",
        "plt.tight_layout()\n",
        "\n",
        "# Display the results table\n",
        "headers = [\"Image\", \"True Label\", \"Predicted Label\"]\n",
        "print(tabulate(results_table, headers, tablefmt=\"grid\"))\n",
        "\n",
        "# Show the plots\n",
        "plt.show()\n"
      ],
      "metadata": {
        "colab": {
          "base_uri": "https://localhost:8080/",
          "height": 1000
        },
        "id": "bPCQ_JbB-x6i",
        "outputId": "9483ec5e-775e-46e9-ff1a-13bba2483653"
      },
      "execution_count": 110,
      "outputs": [
        {
          "output_type": "stream",
          "name": "stdout",
          "text": [
            "1/1 [==============================] - 0s 72ms/step\n",
            "1/1 [==============================] - 0s 33ms/step\n",
            "1/1 [==============================] - 0s 58ms/step\n",
            "1/1 [==============================] - 0s 55ms/step\n",
            "1/1 [==============================] - 0s 58ms/step\n",
            "1/1 [==============================] - 0s 74ms/step\n",
            "1/1 [==============================] - 0s 61ms/step\n",
            "1/1 [==============================] - 0s 74ms/step\n",
            "1/1 [==============================] - 0s 48ms/step\n",
            "1/1 [==============================] - 0s 48ms/step\n",
            "+----------+-----------------+-------------------+\n",
            "| Image    | True Label      | Predicted Label   |\n",
            "+==========+=================+===================+\n",
            "| Image 37 | Non_cancerous   | Non_cancerous     |\n",
            "+----------+-----------------+-------------------+\n",
            "| Image 38 | Non_cancerous   | Non_cancerous     |\n",
            "+----------+-----------------+-------------------+\n",
            "| Image 39 | cancerous Tumor | Non_cancerous     |\n",
            "+----------+-----------------+-------------------+\n",
            "| Image 40 | Non_cancerous   | Non_cancerous     |\n",
            "+----------+-----------------+-------------------+\n",
            "| Image 41 | Non_cancerous   | Non_cancerous     |\n",
            "+----------+-----------------+-------------------+\n",
            "| Image 42 | Non_cancerous   | Non_cancerous     |\n",
            "+----------+-----------------+-------------------+\n",
            "| Image 43 | Non_cancerous   | Non_cancerous     |\n",
            "+----------+-----------------+-------------------+\n",
            "| Image 44 | Non_cancerous   | cancerous Tumor   |\n",
            "+----------+-----------------+-------------------+\n",
            "| Image 45 | Non_cancerous   | Non_cancerous     |\n",
            "+----------+-----------------+-------------------+\n",
            "| Image 46 | Non_cancerous   | Non_cancerous     |\n",
            "+----------+-----------------+-------------------+\n"
          ]
        },
        {
          "output_type": "display_data",
          "data": {
            "text/plain": [
              "<Figure size 1000x500 with 12 Axes>"
            ],
            "image/png": "[encoded data removed]"
          },
          "metadata": {}
        }
      ]
    }
  ]
}